{
 "cells": [
  {
   "cell_type": "markdown",
   "metadata": {},
   "source": [
    "# PHYS 576 HW 1\n",
    "### Joshua LaBounty\n",
    "### 10/3/2018"
   ]
  },
  {
   "cell_type": "markdown",
   "metadata": {},
   "source": [
    "This notebook will be used to complete the assignment detailed here: https://canvas.uw.edu/courses/1224622/assignments/4408632"
   ]
  },
  {
   "cell_type": "code",
   "execution_count": 1,
   "metadata": {},
   "outputs": [
    {
     "name": "stdout",
     "output_type": "stream",
     "text": [
      "Welcome to JupyROOT 6.12/06\n"
     ]
    }
   ],
   "source": [
    "#General imports.\n",
    "import ROOT as r\n",
    "import math\n",
    "from BlindersPy3 import Blinders\n",
    "from BlindersPy3 import FitType\n",
    "r.gStyle.SetOptStat(0)\n",
    "r.gStyle.SetOptFit(1111)\n",
    "import matplotlib.pyplot as plt\n",
    "import csv\n",
    "import pandas\n",
    "\n",
    "import seaborn as sns\n",
    "sns.set(style=\"ticks\", color_codes=True)\n",
    "import numpy as np\n",
    "import matplotlib.pyplot as plt\n",
    "import matplotlib \n",
    "matplotlib.rc('xtick', labelsize=20) \n",
    "matplotlib.rc('ytick', labelsize=20) \n",
    "import os\n",
    "import scipy\n",
    "\n",
    "import uproot #https://indico.cern.ch/event/686641/contributions/2894906/attachments/1606247/2548596/pivarski-uproot.pdf\n",
    "from awkward import JaggedArray\n",
    "from root_pandas import read_root # https://github.com/scikit-hep/root_pandas\n",
    "\n",
    "%matplotlib inline"
   ]
  },
  {
   "cell_type": "markdown",
   "metadata": {},
   "source": [
    "I'm not sure if this is going to be the dataset that I'm planning on using for this class, but at the very least it will be highly related. One issue with the assignment is that due to the nature of data collection (only collecting data when the calorimeter is triggered over a certain threshold), I don't have any background data handy. I'm going to see if I can dig some up, but I'm not sure if I'll have any available by the time this assignment is due."
   ]
  },
  {
   "cell_type": "markdown",
   "metadata": {},
   "source": [
    "In the meantime, lets look at some real calorimeter data."
   ]
  },
  {
   "cell_type": "code",
   "execution_count": 2,
   "metadata": {},
   "outputs": [
    {
     "name": "stdout",
     "output_type": "stream",
     "text": [
      "TFile**\t\t./data/gm2offline_ana_10868087_16370.00284.root\t\n",
      " TFile*\t\t./data/gm2offline_ana_10868087_16370.00284.root\t\n",
      "  TDirectoryFile*\t\tfarline\tfarline (CaloFarlineHistograms) folder\n",
      "   KEY: TDirectoryFile\tcalo1;1\tcalo1\n",
      "   KEY: TDirectoryFile\tcalo2;1\tcalo2\n",
      "   KEY: TDirectoryFile\tcalo3;1\tcalo3\n",
      "   KEY: TDirectoryFile\tcalo4;1\tcalo4\n",
      "   KEY: TDirectoryFile\tcalo5;1\tcalo5\n",
      "   KEY: TDirectoryFile\tcalo6;1\tcalo6\n",
      "   KEY: TDirectoryFile\tcalo7;1\tcalo7\n",
      "   KEY: TDirectoryFile\tcalo8;1\tcalo8\n",
      "   KEY: TDirectoryFile\tcalo9;1\tcalo9\n",
      "   KEY: TDirectoryFile\tcalo10;1\tcalo10\n",
      "   KEY: TDirectoryFile\tcalo11;1\tcalo11\n",
      "   KEY: TDirectoryFile\tcalo12;1\tcalo12\n",
      "   KEY: TDirectoryFile\tcalo13;1\tcalo13\n",
      "   KEY: TDirectoryFile\tcalo14;1\tcalo14\n",
      "   KEY: TDirectoryFile\tcalo15;1\tcalo15\n",
      "   KEY: TDirectoryFile\tcalo16;1\tcalo16\n",
      "   KEY: TDirectoryFile\tcalo17;1\tcalo17\n",
      "   KEY: TDirectoryFile\tcalo18;1\tcalo18\n",
      "   KEY: TDirectoryFile\tcalo19;1\tcalo19\n",
      "   KEY: TDirectoryFile\tcalo20;1\tcalo20\n",
      "   KEY: TDirectoryFile\tcalo21;1\tcalo21\n",
      "   KEY: TDirectoryFile\tcalo22;1\tcalo22\n",
      "   KEY: TDirectoryFile\tcalo23;1\tcalo23\n",
      "   KEY: TDirectoryFile\tcalo24;1\tcalo24\n",
      "   KEY: TDirectoryFile\tcalo25;1\tcalo25\n",
      "   KEY: TDirectoryFile\tcalo26;1\tcalo26\n",
      "   KEY: TDirectoryFile\tcalo27;1\tcalo27\n",
      "   KEY: TTree\teventTree;35\teventTree\n",
      "   KEY: TTree\teventTree;34\teventTree\n",
      "   KEY: TH1D\tallCaloEnergies;1\tall energies\n",
      "   KEY: TH1D\tallCaloWiggle;1\tT Method, all calos\n",
      "   KEY: TH1D\tallCaloTimes;1\thit times, all calos\n",
      "   KEY: TH1D\tfarlineCTag;1\tfarlineCTag\n",
      "  KEY: TDirectoryFile\tfarline;1\tfarline (CaloFarlineHistograms) folder\n"
     ]
    }
   ],
   "source": [
    "f = r.TFile(\"./data/gm2offline_ana_10868087_16370.00284.root\")\n",
    "f.cd(\"farline\")\n",
    "f.ls()"
   ]
  },
  {
   "cell_type": "code",
   "execution_count": 3,
   "metadata": {},
   "outputs": [
    {
     "name": "stdout",
     "output_type": "stream",
     "text": [
      "******************************************************************************\n",
      "*Tree    :eventTree : eventTree                                              *\n",
      "*Entries :    11618 : Total =      1713646918 bytes  File  Size = 1174059255 *\n",
      "*        :          : Tree compression factor =   1.46                       *\n",
      "******************************************************************************\n",
      "*Br    0 :runNum    : runNum/i                                               *\n",
      "*Entries :    11618 : Total  Size=      50211 bytes  File Size  =       4514 *\n",
      "*Baskets :       35 : Basket Size=      49569 bytes  Compression=  10.90     *\n",
      "*............................................................................*\n",
      "*Br    1 :subRunNum : subRunNum/i                                            *\n",
      "*Entries :    11618 : Total  Size=      50328 bytes  File Size  =       4735 *\n",
      "*Baskets :       35 : Basket Size=      49569 bytes  Compression=  10.41     *\n",
      "*............................................................................*\n",
      "*Br    2 :eventNum  : eventNum/i                                             *\n",
      "*Entries :    11618 : Total  Size=      50289 bytes  File Size  =      20220 *\n",
      "*Baskets :       35 : Basket Size=      49569 bytes  Compression=   2.44     *\n",
      "*............................................................................*\n",
      "*Br    3 :midasSerialNum : midasSerialNum/i                                  *\n",
      "*Entries :    11618 : Total  Size=      50523 bytes  File Size  =      23495 *\n",
      "*Baskets :       35 : Basket Size=      49569 bytes  Compression=   2.11     *\n",
      "*............................................................................*\n",
      "*Br    4 :clockCounter : clockCounter/D                                      *\n",
      "*Entries :    11618 : Total  Size=      96925 bytes  File Size  =      78081 *\n",
      "*Baskets :       35 : Basket Size=      49569 bytes  Compression=   1.23     *\n",
      "*............................................................................*\n",
      "*Br    5 :trigNum   : trigNum/i                                              *\n",
      "*Entries :    11618 : Total  Size=      50250 bytes  File Size  =      23250 *\n",
      "*Baskets :       35 : Basket Size=      49569 bytes  Compression=   2.12     *\n",
      "*............................................................................*\n",
      "*Br    6 :bunchNum  : bunchNum/i                                             *\n",
      "*Entries :    11618 : Total  Size=      50289 bytes  File Size  =       7231 *\n",
      "*Baskets :       35 : Basket Size=      49569 bytes  Compression=   6.81     *\n",
      "*............................................................................*\n",
      "*Br    7 :runStartUnixTimeSeconds : runStartUnixTimeSeconds/i                *\n",
      "*Entries :    11618 : Total  Size=      50874 bytes  File Size  =       9181 *\n",
      "*Baskets :       35 : Basket Size=      49569 bytes  Compression=   5.42     *\n",
      "*............................................................................*\n",
      "*Br    8 :ctag      : ctag/i                                                 *\n",
      "*Entries :    11618 : Total  Size=      50133 bytes  File Size  =      23590 *\n",
      "*Baskets :       35 : Basket Size=      49569 bytes  Compression=   2.08     *\n",
      "*............................................................................*\n",
      "*Br    9 :caloNum   : vector<int>                                            *\n",
      "*Entries :    11618 : Total  Size=  190433919 bytes  File Size  =    2456744 *\n",
      "*Baskets :      290 : Basket Size=    4829696 bytes  Compression=  77.51     *\n",
      "*............................................................................*\n",
      "*Br   10 :energy    : vector<double>                                         *\n",
      "*Entries :    11618 : Total  Size=  380679163 bytes  File Size  =  362243504 *\n",
      "*Baskets :      343 : Basket Size=    9636864 bytes  Compression=   1.05     *\n",
      "*............................................................................*\n",
      "*Br   11 :time      : vector<double>                                         *\n",
      "*Entries :    11618 : Total  Size=  380678469 bytes  File Size  =  363380887 *\n",
      "*Baskets :      343 : Basket Size=    9636352 bytes  Compression=   1.05     *\n",
      "*............................................................................*\n",
      "*Br   12 :x         : vector<double>                                         *\n",
      "*Entries :    11618 : Total  Size=  380677428 bytes  File Size  =  240780281 *\n",
      "*Baskets :      343 : Basket Size=    9635328 bytes  Compression=   1.58     *\n",
      "*............................................................................*\n",
      "*Br   13 :y         : vector<double>                                         *\n",
      "*Entries :    11618 : Total  Size=  380677428 bytes  File Size  =  204984169 *\n",
      "*Baskets :      343 : Basket Size=    9635328 bytes  Compression=   1.86     *\n",
      "*............................................................................*\n"
     ]
    }
   ],
   "source": [
    "t = f.Get(\"farline/eventTree\")\n",
    "t.Print()"
   ]
  },
  {
   "cell_type": "markdown",
   "metadata": {},
   "source": [
    "Lets see what runs and subruns we have in this file"
   ]
  },
  {
   "cell_type": "code",
   "execution_count": 4,
   "metadata": {},
   "outputs": [
    {
     "data": {
      "image/png": "[encoded data removed]",
      "text/plain": [
       "<IPython.core.display.Image object>"
      ]
     },
     "metadata": {},
     "output_type": "display_data"
    }
   ],
   "source": [
    "c = r.TCanvas()\n",
    "t.Draw(\"subRunNum:runNum\")\n",
    "c.Draw()"
   ]
  },
  {
   "cell_type": "markdown",
   "metadata": {},
   "source": [
    "This file contains aroot TTree in which the data for the clusters is stored. Associated with each cluster is a mean energy, its reconstructed position within the calorimeter, and various other parameters. Lets see the position distribution of all of the clusters"
   ]
  },
  {
   "cell_type": "code",
   "execution_count": 5,
   "metadata": {},
   "outputs": [
    {
     "data": {
      "image/png": "[encoded data removed]",
      "text/plain": [
       "<IPython.core.display.Image object>"
      ]
     },
     "metadata": {},
     "output_type": "display_data"
    }
   ],
   "source": [
    "h1 = r.TH2D(\"h1\",\"Distribution of Clusters in All Calorimeters; x [crystals]; y [crystals]\",90,0,9,60,0,6)\n",
    "c2 = r.TCanvas()\n",
    "t.Draw(\"y:x>>h1\")\n",
    "h1.Draw(\"COLZ\")\n",
    "c2.Draw()"
   ]
  },
  {
   "cell_type": "markdown",
   "metadata": {},
   "source": [
    "We can see that there is are some spots which are quite hot, but the real pattern starts to emerge when we view this on a log scale"
   ]
  },
  {
   "cell_type": "code",
   "execution_count": 6,
   "metadata": {},
   "outputs": [
    {
     "data": {
      "image/png": "[encoded data removed]",
      "text/plain": [
       "<IPython.core.display.Image object>"
      ]
     },
     "metadata": {},
     "output_type": "display_data"
    }
   ],
   "source": [
    "c2.SetLogz()\n",
    "c2.Draw()"
   ]
  },
  {
   "cell_type": "markdown",
   "metadata": {},
   "source": [
    "The reconstructed positions are very highly weighted towards the center of the crystals (the 0.5 marks) and are disfavored at the edges. We can also look and see the x and y-projections of this plot."
   ]
  },
  {
   "cell_type": "code",
   "execution_count": 7,
   "metadata": {},
   "outputs": [
    {
     "data": {
      "image/png": "[encoded data removed]",
      "text/plain": [
       "<IPython.core.display.Image object>"
      ]
     },
     "metadata": {},
     "output_type": "display_data"
    }
   ],
   "source": [
    "c3 = r.TCanvas(\"c3\",\"c3\",1200,600)\n",
    "c3.Divide(2)\n",
    "\n",
    "c3.cd(1)\n",
    "r.gPad.SetLogy()\n",
    "h2 = r.TH1D(\"h2\",\"X-Distribution of Clusters in All Calorimeters; x [crystals]; Counts\",900,0,9)\n",
    "t.Draw(\"x>>h2\",\"\",\"goff\")\n",
    "h2.Draw()\n",
    "\n",
    "c3.cd(2)\n",
    "r.gPad.SetLogy()\n",
    "h3 = r.TH1D(\"h3\",\"Y-Distribution of Clusters in All Calorimeters; y [crystals]; Counts\",600,0,6)\n",
    "t.Draw(\"y>>h3\",\"\",\"goff\")\n",
    "h3.Draw()\n",
    "\n",
    "c3.Draw()"
   ]
  },
  {
   "cell_type": "markdown",
   "metadata": {},
   "source": [
    "Lets look at only one crystal"
   ]
  },
  {
   "cell_type": "code",
   "execution_count": 32,
   "metadata": {},
   "outputs": [
    {
     "data": {
      "text/plain": [
       "12298353"
      ]
     },
     "execution_count": 32,
     "metadata": {},
     "output_type": "execute_result"
    },
    {
     "name": "stderr",
     "output_type": "stream",
     "text": [
      "Warning in <TDirectoryFile::Append>: Replacing existing TH1: h4 (Potential memory leak).\n"
     ]
    }
   ],
   "source": [
    "h4 = r.TH1D(\"h4\",\"X-Distribution of Clusters in All Calorimeters; x [crystals]; Counts\",200,2,3)\n",
    "t.Draw(\"x>>h4\",\"y > 2 && y< 3\",\"goff\")"
   ]
  },
  {
   "cell_type": "code",
   "execution_count": 33,
   "metadata": {},
   "outputs": [
    {
     "data": {
      "image/png": "[encoded data removed]",
      "text/plain": [
       "<IPython.core.display.Image object>"
      ]
     },
     "metadata": {},
     "output_type": "display_data"
    }
   ],
   "source": [
    "c4 = r.TCanvas()\n",
    "h4.Draw()\n",
    "c4.SetLogy()\n",
    "c4.Draw()"
   ]
  },
  {
   "cell_type": "markdown",
   "metadata": {},
   "source": [
    "Now for the real money plot, we have already generated a plot of the calorimeter data vs. time in order to extract the omega_a frequency"
   ]
  },
  {
   "cell_type": "code",
   "execution_count": 23,
   "metadata": {},
   "outputs": [
    {
     "name": "stdout",
     "output_type": "stream",
     "text": [
      "<ROOT.TH1D object (\"allCaloWiggle\") at 0x7f27f45103b0>\n",
      "0.0 560000.0\n",
      "0.0 700.0\n"
     ]
    }
   ],
   "source": [
    "allCaloWiggle = f.Get(\"farline\").Get(\"allCaloWiggle\").Clone()\n",
    "\n",
    "#lets also rescale the x-axis from clock ticks into (approximate) microseconds\n",
    "print(allCaloWiggle.GetXaxis().GetXmin(),allCaloWiggle.GetXaxis().GetXmax())\n",
    "allCaloWiggle.GetXaxis().SetLimits(allCaloWiggle.GetXaxis().GetXmin() / 1000 * 1.25,allCaloWiggle.GetXaxis().GetXmax() / 1000 * 1.25)\n",
    "print(allCaloWiggle.GetXaxis().GetXmin(),allCaloWiggle.GetXaxis().GetXmax())\n",
    "allCaloWiggle.GetXaxis().SetTitle(\"Time [#mus]\")"
   ]
  },
  {
   "cell_type": "code",
   "execution_count": 25,
   "metadata": {},
   "outputs": [
    {
     "data": {
      "image/png": "[encoded data removed]",
      "text/plain": [
       "<IPython.core.display.Image object>"
      ]
     },
     "metadata": {},
     "output_type": "display_data"
    }
   ],
   "source": [
    "c2 = r.TCanvas()\n",
    "allCaloWiggle.GetXaxis().SetRangeUser(0,100)\n",
    "allCaloWiggle.Draw()\n",
    "c2.SetLogy()\n",
    "c2.Draw()"
   ]
  },
  {
   "cell_type": "markdown",
   "metadata": {},
   "source": [
    "Lets perform a fourier transform on this plot and see what frequencies we can spot"
   ]
  },
  {
   "cell_type": "code",
   "execution_count": 31,
   "metadata": {},
   "outputs": [
    {
     "name": "stderr",
     "output_type": "stream",
     "text": [
      "Warning in <TDirectoryFile::Append>: Replacing existing TH1: out_MAG P (Potential memory leak).\n"
     ]
    },
    {
     "data": {
      "image/png": "[encoded data removed]",
      "text/plain": [
       "<IPython.core.display.Image object>"
      ]
     },
     "metadata": {},
     "output_type": "display_data"
    }
   ],
   "source": [
    "c5 = r.TCanvas()\n",
    "hxformRaw = r.TH1D()\n",
    "hxformRaw = 0\n",
    "r.TVirtualFFT.SetTransform(0)\n",
    "hxformRaw = allCaloWiggle.FFT(hxformRaw,\"MAG P\")\n",
    "hxformRaw.SetTitle(\"Magnitude of the First Transform (Raw Wiggle)\")\n",
    "#NOTE: for \"real\" frequencies you have to divide the x-axes range with the range of your function\n",
    "#    y-axes has to be rescaled by a factor of 1/SQRT(n) to be right: this is not done automatically!\n",
    "normXform = hxformRaw.GetEntries()\n",
    "hxformRaw.Scale(1/normXform)\n",
    "#c2.SetLogy()\n",
    "hxformRaw.GetXaxis().SetTitle(\"Frequency (MHz)\")\n",
    "hxformRaw.GetYaxis().SetTitle(\"Arb. Units\")\n",
    "hxformRaw.Draw(\"HIST P0 L\")\n",
    "\n",
    "Npart = allCaloWiggle.GetSize() - 2\n",
    "minBinCenter = allCaloWiggle.GetXaxis().GetBinCenter(0)\n",
    "maxBinCenter = allCaloWiggle.GetXaxis().GetBinCenter(Npart)\n",
    "\n",
    "capT = maxBinCenter - minBinCenter\n",
    "#    print(Npart, capT, minBinCenter, maxBinCenter)\n",
    "deltaT = capT/Npart #microseconds\n",
    "deltaF = 1/capT\n",
    "#    print(deltaT, deltaF)\n",
    "\n",
    "deltaTns = deltaT*1000 #nanoseconds\n",
    "limmaxHz = (1/(deltaTns*math.pow(10.0,-9)))\n",
    "limmaxMHz = limmaxHz / math.pow(10,6)\n",
    "\n",
    "limmax = 2*deltaF*Npart #400-25\n",
    "#    print(limmax,limmaxMHz)\n",
    "nbins = allCaloWiggle.GetSize() - 2\n",
    "\n",
    "hxformRaw.SetBins(Npart,0,limmaxMHz)\n",
    "hxformRaw.GetXaxis().SetRangeUser(0,limmaxMHz/2)\n",
    "\n",
    "c5.SetLogy()\n",
    "\n",
    "c5.Draw()"
   ]
  },
  {
   "cell_type": "markdown",
   "metadata": {},
   "source": [
    "We can already see our target, but it is superimposed on a good deal of background noise (mostly the exponential decay, but there are other frequencies present as well)"
   ]
  },
  {
   "cell_type": "code",
   "execution_count": 3,
   "metadata": {},
   "outputs": [],
   "source": [
    "df = read_root(\"./data/gm2offline_ana_10868087_16370.00284.root\",\"farline/eventTree\")#,flatten=['energy'])"
   ]
  },
  {
   "cell_type": "code",
   "execution_count": 4,
   "metadata": {},
   "outputs": [
    {
     "data": {
      "text/html": [
       "<div>\n",
       "<style scoped>\n",
       "    .dataframe tbody tr th:only-of-type {\n",
       "        vertical-align: middle;\n",
       "    }\n",
       "\n",
       "    .dataframe tbody tr th {\n",
       "        vertical-align: top;\n",
       "    }\n",
       "\n",
       "    .dataframe thead th {\n",
       "        text-align: right;\n",
       "    }\n",
       "</style>\n",
       "<table border=\"1\" class=\"dataframe\">\n",
       "  <thead>\n",
       "    <tr style=\"text-align: right;\">\n",
       "      <th></th>\n",
       "      <th>runNum</th>\n",
       "      <th>subRunNum</th>\n",
       "      <th>eventNum</th>\n",
       "      <th>midasSerialNum</th>\n",
       "      <th>clockCounter</th>\n",
       "      <th>trigNum</th>\n",
       "      <th>bunchNum</th>\n",
       "      <th>runStartUnixTimeSeconds</th>\n",
       "      <th>ctag</th>\n",
       "      <th>caloNum</th>\n",
       "      <th>energy</th>\n",
       "      <th>time</th>\n",
       "      <th>x</th>\n",
       "      <th>y</th>\n",
       "    </tr>\n",
       "  </thead>\n",
       "  <tbody>\n",
       "    <tr>\n",
       "      <th>0</th>\n",
       "      <td>16370</td>\n",
       "      <td>284</td>\n",
       "      <td>3</td>\n",
       "      <td>58022</td>\n",
       "      <td>2409.609451</td>\n",
       "      <td>58022</td>\n",
       "      <td>0</td>\n",
       "      <td>1525498849</td>\n",
       "      <td>239</td>\n",
       "      <td>[1, 1, 1, 1, 1, 1, 1, 1, 1, 1, 1, 1, 1, 1, 1, ...</td>\n",
       "      <td>[89977.7073041866, 101.87287362488608, 222.534...</td>\n",
       "      <td>[-19395.76927145949, 2237.309179474737, 2242.7...</td>\n",
       "      <td>[4.458734232692782, 0.5, 3.4188590589589, 1.74...</td>\n",
       "      <td>[3.3363633469142724, 1.5, 1.979714764739725, 1...</td>\n",
       "    </tr>\n",
       "    <tr>\n",
       "      <th>1</th>\n",
       "      <td>16370</td>\n",
       "      <td>284</td>\n",
       "      <td>7</td>\n",
       "      <td>58026</td>\n",
       "      <td>2409.629447</td>\n",
       "      <td>58026</td>\n",
       "      <td>2</td>\n",
       "      <td>1525498849</td>\n",
       "      <td>382</td>\n",
       "      <td>[1, 1, 1, 1, 1, 1, 1, 1, 1, 1, 1, 1, 1, 1, 1, ...</td>\n",
       "      <td>[89106.24049169305, 132.74083422492572, 192.50...</td>\n",
       "      <td>[-19382.35144260338, 2237.4090215184942, 2244....</td>\n",
       "      <td>[4.267867893606318, 0.5, 3.5, 8.5, 0.850243236...</td>\n",
       "      <td>[3.3878638303533393, 1.5, 1.5, 4.5, 3.50320549...</td>\n",
       "    </tr>\n",
       "    <tr>\n",
       "      <th>2</th>\n",
       "      <td>16370</td>\n",
       "      <td>284</td>\n",
       "      <td>9</td>\n",
       "      <td>58028</td>\n",
       "      <td>2409.639456</td>\n",
       "      <td>58028</td>\n",
       "      <td>3</td>\n",
       "      <td>1525498849</td>\n",
       "      <td>301</td>\n",
       "      <td>[1, 1, 1, 1, 1, 1, 1, 1, 1, 1, 1, 1, 1, 1, 1, ...</td>\n",
       "      <td>[89799.63529988089, 166.4603654107443, 836.199...</td>\n",
       "      <td>[-19389.076601817676, 2240.196069766544, 2254....</td>\n",
       "      <td>[4.052760315837253, 3.5, 3.826535892095876, 0....</td>\n",
       "      <td>[3.299466993836355, 1.5, 2.122688090864464, 2....</td>\n",
       "    </tr>\n",
       "    <tr>\n",
       "      <th>3</th>\n",
       "      <td>16370</td>\n",
       "      <td>284</td>\n",
       "      <td>11</td>\n",
       "      <td>58030</td>\n",
       "      <td>2409.649453</td>\n",
       "      <td>58030</td>\n",
       "      <td>4</td>\n",
       "      <td>1525498850</td>\n",
       "      <td>332</td>\n",
       "      <td>[1, 1, 1, 1, 1, 1, 1, 1, 1, 1, 1, 1, 1, 1, 1, ...</td>\n",
       "      <td>[89860.73011597618, 315.2148851959325, 230.118...</td>\n",
       "      <td>[-19401.700385891094, 2244.8677473247194, 2251...</td>\n",
       "      <td>[4.220020517028314, 3.203730023812204, 7.45360...</td>\n",
       "      <td>[3.3670557318028047, 2.4999999999999996, 2.407...</td>\n",
       "    </tr>\n",
       "    <tr>\n",
       "      <th>4</th>\n",
       "      <td>16370</td>\n",
       "      <td>284</td>\n",
       "      <td>13</td>\n",
       "      <td>58032</td>\n",
       "      <td>2409.659451</td>\n",
       "      <td>58032</td>\n",
       "      <td>5</td>\n",
       "      <td>1525498850</td>\n",
       "      <td>325</td>\n",
       "      <td>[1, 1, 1, 1, 1, 1, 1, 1, 1, 1, 1, 1, 1, 1, 1, ...</td>\n",
       "      <td>[90493.54732965495, 133.95693836570237, 326.33...</td>\n",
       "      <td>[-19413.433284110397, 2253.998245961876, 2261....</td>\n",
       "      <td>[4.242635229972804, 0.5, 2.5451576049553024, 0...</td>\n",
       "      <td>[3.3486934437806264, 1.5, 5.011289401238826, 1...</td>\n",
       "    </tr>\n",
       "  </tbody>\n",
       "</table>\n",
       "</div>"
      ],
      "text/plain": [
       "   runNum  subRunNum  eventNum  midasSerialNum  clockCounter  trigNum  \\\n",
       "0   16370        284         3           58022   2409.609451    58022   \n",
       "1   16370        284         7           58026   2409.629447    58026   \n",
       "2   16370        284         9           58028   2409.639456    58028   \n",
       "3   16370        284        11           58030   2409.649453    58030   \n",
       "4   16370        284        13           58032   2409.659451    58032   \n",
       "\n",
       "   bunchNum  runStartUnixTimeSeconds  ctag  \\\n",
       "0         0               1525498849   239   \n",
       "1         2               1525498849   382   \n",
       "2         3               1525498849   301   \n",
       "3         4               1525498850   332   \n",
       "4         5               1525498850   325   \n",
       "\n",
       "                                             caloNum  \\\n",
       "0  [1, 1, 1, 1, 1, 1, 1, 1, 1, 1, 1, 1, 1, 1, 1, ...   \n",
       "1  [1, 1, 1, 1, 1, 1, 1, 1, 1, 1, 1, 1, 1, 1, 1, ...   \n",
       "2  [1, 1, 1, 1, 1, 1, 1, 1, 1, 1, 1, 1, 1, 1, 1, ...   \n",
       "3  [1, 1, 1, 1, 1, 1, 1, 1, 1, 1, 1, 1, 1, 1, 1, ...   \n",
       "4  [1, 1, 1, 1, 1, 1, 1, 1, 1, 1, 1, 1, 1, 1, 1, ...   \n",
       "\n",
       "                                              energy  \\\n",
       "0  [89977.7073041866, 101.87287362488608, 222.534...   \n",
       "1  [89106.24049169305, 132.74083422492572, 192.50...   \n",
       "2  [89799.63529988089, 166.4603654107443, 836.199...   \n",
       "3  [89860.73011597618, 315.2148851959325, 230.118...   \n",
       "4  [90493.54732965495, 133.95693836570237, 326.33...   \n",
       "\n",
       "                                                time  \\\n",
       "0  [-19395.76927145949, 2237.309179474737, 2242.7...   \n",
       "1  [-19382.35144260338, 2237.4090215184942, 2244....   \n",
       "2  [-19389.076601817676, 2240.196069766544, 2254....   \n",
       "3  [-19401.700385891094, 2244.8677473247194, 2251...   \n",
       "4  [-19413.433284110397, 2253.998245961876, 2261....   \n",
       "\n",
       "                                                   x  \\\n",
       "0  [4.458734232692782, 0.5, 3.4188590589589, 1.74...   \n",
       "1  [4.267867893606318, 0.5, 3.5, 8.5, 0.850243236...   \n",
       "2  [4.052760315837253, 3.5, 3.826535892095876, 0....   \n",
       "3  [4.220020517028314, 3.203730023812204, 7.45360...   \n",
       "4  [4.242635229972804, 0.5, 2.5451576049553024, 0...   \n",
       "\n",
       "                                                   y  \n",
       "0  [3.3363633469142724, 1.5, 1.979714764739725, 1...  \n",
       "1  [3.3878638303533393, 1.5, 1.5, 4.5, 3.50320549...  \n",
       "2  [3.299466993836355, 1.5, 2.122688090864464, 2....  \n",
       "3  [3.3670557318028047, 2.4999999999999996, 2.407...  \n",
       "4  [3.3486934437806264, 1.5, 5.011289401238826, 1...  "
      ]
     },
     "execution_count": 4,
     "metadata": {},
     "output_type": "execute_result"
    }
   ],
   "source": [
    "df.head()"
   ]
  },
  {
   "cell_type": "code",
   "execution_count": 5,
   "metadata": {},
   "outputs": [
    {
     "data": {
      "text/html": [
       "<div>\n",
       "<style scoped>\n",
       "    .dataframe tbody tr th:only-of-type {\n",
       "        vertical-align: middle;\n",
       "    }\n",
       "\n",
       "    .dataframe tbody tr th {\n",
       "        vertical-align: top;\n",
       "    }\n",
       "\n",
       "    .dataframe thead th {\n",
       "        text-align: right;\n",
       "    }\n",
       "</style>\n",
       "<table border=\"1\" class=\"dataframe\">\n",
       "  <thead>\n",
       "    <tr style=\"text-align: right;\">\n",
       "      <th></th>\n",
       "      <th>runNum</th>\n",
       "      <th>subRunNum</th>\n",
       "      <th>eventNum</th>\n",
       "      <th>midasSerialNum</th>\n",
       "      <th>clockCounter</th>\n",
       "      <th>trigNum</th>\n",
       "      <th>bunchNum</th>\n",
       "      <th>runStartUnixTimeSeconds</th>\n",
       "      <th>ctag</th>\n",
       "    </tr>\n",
       "  </thead>\n",
       "  <tbody>\n",
       "    <tr>\n",
       "      <th>count</th>\n",
       "      <td>11618.000000</td>\n",
       "      <td>11618.000000</td>\n",
       "      <td>11618.000000</td>\n",
       "      <td>11618.000000</td>\n",
       "      <td>11618.000000</td>\n",
       "      <td>11618.000000</td>\n",
       "      <td>11618.000000</td>\n",
       "      <td>1.161800e+04</td>\n",
       "      <td>11618.000000</td>\n",
       "    </tr>\n",
       "    <tr>\n",
       "      <th>mean</th>\n",
       "      <td>16363.450250</td>\n",
       "      <td>234.755896</td>\n",
       "      <td>108.137201</td>\n",
       "      <td>48176.122999</td>\n",
       "      <td>2331.612599</td>\n",
       "      <td>48176.122999</td>\n",
       "      <td>3.503615</td>\n",
       "      <td>1.525471e+09</td>\n",
       "      <td>277.166380</td>\n",
       "    </tr>\n",
       "    <tr>\n",
       "      <th>std</th>\n",
       "      <td>4.770102</td>\n",
       "      <td>142.347852</td>\n",
       "      <td>64.611602</td>\n",
       "      <td>29150.334719</td>\n",
       "      <td>1419.676248</td>\n",
       "      <td>29150.334719</td>\n",
       "      <td>2.291797</td>\n",
       "      <td>1.819730e+04</td>\n",
       "      <td>83.567374</td>\n",
       "    </tr>\n",
       "    <tr>\n",
       "      <th>min</th>\n",
       "      <td>16355.000000</td>\n",
       "      <td>3.000000</td>\n",
       "      <td>1.000000</td>\n",
       "      <td>600.000000</td>\n",
       "      <td>24.927871</td>\n",
       "      <td>600.000000</td>\n",
       "      <td>0.000000</td>\n",
       "      <td>1.525440e+09</td>\n",
       "      <td>0.000000</td>\n",
       "    </tr>\n",
       "    <tr>\n",
       "      <th>25%</th>\n",
       "      <td>16358.000000</td>\n",
       "      <td>123.000000</td>\n",
       "      <td>54.000000</td>\n",
       "      <td>25133.500000</td>\n",
       "      <td>1162.279086</td>\n",
       "      <td>25133.500000</td>\n",
       "      <td>2.000000</td>\n",
       "      <td>1.525453e+09</td>\n",
       "      <td>260.000000</td>\n",
       "    </tr>\n",
       "    <tr>\n",
       "      <th>50%</th>\n",
       "      <td>16364.000000</td>\n",
       "      <td>220.000000</td>\n",
       "      <td>107.000000</td>\n",
       "      <td>45764.500000</td>\n",
       "      <td>2219.615131</td>\n",
       "      <td>45764.500000</td>\n",
       "      <td>4.000000</td>\n",
       "      <td>1.525470e+09</td>\n",
       "      <td>300.000000</td>\n",
       "    </tr>\n",
       "    <tr>\n",
       "      <th>75%</th>\n",
       "      <td>16368.000000</td>\n",
       "      <td>357.000000</td>\n",
       "      <td>159.000000</td>\n",
       "      <td>72815.500000</td>\n",
       "      <td>3564.103566</td>\n",
       "      <td>72815.500000</td>\n",
       "      <td>6.000000</td>\n",
       "      <td>1.525489e+09</td>\n",
       "      <td>324.000000</td>\n",
       "    </tr>\n",
       "    <tr>\n",
       "      <th>max</th>\n",
       "      <td>16370.000000</td>\n",
       "      <td>493.000000</td>\n",
       "      <td>352.000000</td>\n",
       "      <td>106463.000000</td>\n",
       "      <td>5149.988328</td>\n",
       "      <td>106463.000000</td>\n",
       "      <td>7.000000</td>\n",
       "      <td>1.525499e+09</td>\n",
       "      <td>419.000000</td>\n",
       "    </tr>\n",
       "  </tbody>\n",
       "</table>\n",
       "</div>"
      ],
      "text/plain": [
       "             runNum     subRunNum      eventNum  midasSerialNum  clockCounter  \\\n",
       "count  11618.000000  11618.000000  11618.000000    11618.000000  11618.000000   \n",
       "mean   16363.450250    234.755896    108.137201    48176.122999   2331.612599   \n",
       "std        4.770102    142.347852     64.611602    29150.334719   1419.676248   \n",
       "min    16355.000000      3.000000      1.000000      600.000000     24.927871   \n",
       "25%    16358.000000    123.000000     54.000000    25133.500000   1162.279086   \n",
       "50%    16364.000000    220.000000    107.000000    45764.500000   2219.615131   \n",
       "75%    16368.000000    357.000000    159.000000    72815.500000   3564.103566   \n",
       "max    16370.000000    493.000000    352.000000   106463.000000   5149.988328   \n",
       "\n",
       "             trigNum      bunchNum  runStartUnixTimeSeconds          ctag  \n",
       "count   11618.000000  11618.000000             1.161800e+04  11618.000000  \n",
       "mean    48176.122999      3.503615             1.525471e+09    277.166380  \n",
       "std     29150.334719      2.291797             1.819730e+04     83.567374  \n",
       "min       600.000000      0.000000             1.525440e+09      0.000000  \n",
       "25%     25133.500000      2.000000             1.525453e+09    260.000000  \n",
       "50%     45764.500000      4.000000             1.525470e+09    300.000000  \n",
       "75%     72815.500000      6.000000             1.525489e+09    324.000000  \n",
       "max    106463.000000      7.000000             1.525499e+09    419.000000  "
      ]
     },
     "execution_count": 5,
     "metadata": {},
     "output_type": "execute_result"
    }
   ],
   "source": [
    "df.describe()"
   ]
  },
  {
   "cell_type": "code",
   "execution_count": 6,
   "metadata": {},
   "outputs": [
    {
     "data": {
      "image/png": "[encoded data removed]",
      "text/plain": [
       "<Figure size 576x720 with 2 Axes>"
      ]
     },
     "metadata": {},
     "output_type": "display_data"
    }
   ],
   "source": [
    "corr = df.corr()\n",
    "\n",
    "# Generate a mask for the upper triangle\n",
    "mask = np.zeros_like(corr, dtype=np.bool)\n",
    "mask[np.triu_indices_from(mask)] = True\n",
    "\n",
    "# Set up the matplotlib figure\n",
    "f, ax = plt.subplots(figsize=(8, 10))\n",
    "\n",
    "# Generate a custom diverging colormap\n",
    "cmap = sns.diverging_palette(220, 10, as_cmap=True)\n",
    "#cmap=plt.cm.viridis\n",
    "\n",
    "# Draw the heatmap with the mask and correct aspect ratio\n",
    "#, mask=mask\n",
    "sns.heatmap(corr, cmap=cmap, vmax=1, vmin=-1, center=0,\n",
    "            square=True, linewidths=.5, cbar_kws={\"shrink\": .5}, mask=mask)\n",
    "\n",
    "plt.show()"
   ]
  },
  {
   "cell_type": "code",
   "execution_count": 7,
   "metadata": {},
   "outputs": [],
   "source": [
    "file = uproot.open(\"./data/gm2offline_ana_10868087_16370.00284.root\")"
   ]
  },
  {
   "cell_type": "code",
   "execution_count": 8,
   "metadata": {},
   "outputs": [
    {
     "data": {
      "text/plain": [
       "[b'farline;1']"
      ]
     },
     "execution_count": 8,
     "metadata": {},
     "output_type": "execute_result"
    }
   ],
   "source": [
    "file.keys()"
   ]
  },
  {
   "cell_type": "code",
   "execution_count": 9,
   "metadata": {},
   "outputs": [],
   "source": [
    "tree = file[\"farline/eventTree\"]"
   ]
  },
  {
   "cell_type": "code",
   "execution_count": 10,
   "metadata": {},
   "outputs": [
    {
     "data": {
      "text/plain": [
       "[b'runNum',\n",
       " b'subRunNum',\n",
       " b'eventNum',\n",
       " b'midasSerialNum',\n",
       " b'clockCounter',\n",
       " b'trigNum',\n",
       " b'bunchNum',\n",
       " b'runStartUnixTimeSeconds',\n",
       " b'ctag',\n",
       " b'caloNum',\n",
       " b'energy',\n",
       " b'time',\n",
       " b'x',\n",
       " b'y']"
      ]
     },
     "execution_count": 10,
     "metadata": {},
     "output_type": "execute_result"
    }
   ],
   "source": [
    "tree.keys()"
   ]
  },
  {
   "cell_type": "code",
   "execution_count": 11,
   "metadata": {},
   "outputs": [],
   "source": [
    "arrX = tree[\"x\"].array().flatten()\n",
    "arrY = tree[\"y\"].array().flatten()\n",
    "arrEnergy = tree[\"energy\"].array().flatten()\n",
    "arrTime = tree[\"time\"].array().flatten()\n",
    "arrCaloNum = tree[\"caloNum\"].array().flatten()"
   ]
  },
  {
   "cell_type": "code",
   "execution_count": null,
   "metadata": {},
   "outputs": [],
   "source": [
    "dfUnpacked = pandas.DataFrame({'x':arrX,'y':arrY,'e':arrEnergy,'t':arrTime,\"calo\":arrCaloNum})\n",
    "dfUnpacked.head()"
   ]
  },
  {
   "cell_type": "code",
   "execution_count": null,
   "metadata": {},
   "outputs": [],
   "source": [
    "dfUnpacked.describe()"
   ]
  },
  {
   "cell_type": "code",
   "execution_count": null,
   "metadata": {},
   "outputs": [],
   "source": []
  }
 ],
 "metadata": {
  "kernelspec": {
   "display_name": "Python 3",
   "language": "python",
   "name": "python3"
  },
  "language_info": {
   "codemirror_mode": {
    "name": "ipython",
    "version": 3
   },
   "file_extension": ".py",
   "mimetype": "text/x-python",
   "name": "python",
   "nbconvert_exporter": "python",
   "pygments_lexer": "ipython3",
   "version": "3.6.5"
  }
 },
 "nbformat": 4,
 "nbformat_minor": 2
}
